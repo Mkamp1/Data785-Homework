{
 "cells": [
  {
   "cell_type": "markdown",
   "id": "b16e52a8",
   "metadata": {},
   "source": [
    "## Week 1 Assignment, Create my 1st Jupyter notebook\n",
    "Student:     **Michael Kamp**\n",
    "\n",
    "## This is my Markdown block. I am looking forward to getting back into classes and learning something new.\n",
    "\n",
    "### Grading Criteria:\n",
    "\n",
    "Your lab assignment will be graded based on the following criteria:\n",
    "\n",
    "- Correctness of the implementation\n",
    "- Proper use of basic control structures and functions\n",
    "- Code efficiency\n",
    "- Clarity and readability of the code\n",
    "- Compliance with the instructions and deliverables."
   ]
  },
  {
   "cell_type": "code",
   "execution_count": 1,
   "id": "aaf45877",
   "metadata": {},
   "outputs": [
    {
     "name": "stdout",
     "output_type": "stream",
     "text": [
      "Hello Mr. Pomatto, Nice to have you as my instructor this term!\n",
      "I am looking forward to learning Python\n",
      "Here to having a great semester!\n"
     ]
    }
   ],
   "source": [
    "\n",
    "# This is my 1st code block, which prints a greeting to my instructon\n",
    "print(\"Hello Mr. Pomatto, Nice to have you as my instructor this term!\")\n",
    "print(\"I am looking forward to learning Python\")\n",
    "print(\"Here to having a great semester!\")\n",
    "\n",
    "\n"
   ]
  }
 ],
 "metadata": {
  "kernelspec": {
   "display_name": "Python 3",
   "language": "python",
   "name": "python3"
  },
  "language_info": {
   "codemirror_mode": {
    "name": "ipython",
    "version": 3
   },
   "file_extension": ".py",
   "mimetype": "text/x-python",
   "name": "python",
   "nbconvert_exporter": "python",
   "pygments_lexer": "ipython3",
   "version": "3.13.7"
  }
 },
 "nbformat": 4,
 "nbformat_minor": 5
}
