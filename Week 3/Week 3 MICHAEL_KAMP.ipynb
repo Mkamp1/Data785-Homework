{
 "cells": [
  {
   "attachments": {},
   "cell_type": "markdown",
   "metadata": {
    "editable": true,
    "slideshow": {
     "slide_type": ""
    },
    "tags": []
   },
   "source": [
    "## Lab Assignment: Numerical Computing using NumPy\n",
    "Student:     **MICHAEL KAMP*\n",
    "\n",
    "### Objective: To introduce numerical computing in Python using NumPy and understand NumPy arrays and operations.\n",
    "\n",
    "### Instructions:\n",
    "In this lab assignment, you will be introduced to numerical computing in Python using NumPy. You will learn how to create and manipulate NumPy arrays, perform mathematical operations on them, and apply built-in functions to analyze and transform the data.\n",
    "\n",
    "You will be provided with the following five problems to solve. Please read the problem statement carefully and implement the solution using NumPy.\n",
    "\n",
    "1. Create a 1D NumPy array of size 10, filled with zeros.\n",
    "2. Create a 2D NumPy array with shape (3, 4), filled with random values.\n",
    "3. Create a 3D NumPy array with shape (2, 3, 4), filled with ones.\n",
    "4. Add two NumPy arrays element-wise.\n",
    "5. Multiply two NumPy arrays element-wise.\n",
    "\n",
    "### Deliverable:\n",
    "Modify this notebook to include the python code as well as any documentation related to your submission.  Submit the notebook as your response in Blackboard.\n",
    "\n",
    "### Grading Criteria:\n",
    "\n",
    "Your lab assignment will be graded based on the following criteria:\n",
    "\n",
    "- Correctness of the implementation\n",
    "- Proper use of basic control structures and functions\n",
    "- Code efficiency\n",
    "- Clarity and readability of the code\n",
    "- Compliance with the instructions and deliverables.\n",
    "\n",
    "### Student Submission\n",
    "1. Create a 1D NumPy array of size 10, filled with zeros."
   ]
  },
  {
   "cell_type": "code",
   "execution_count": 1,
   "metadata": {},
   "outputs": [
    {
     "name": "stdout",
     "output_type": "stream",
     "text": [
      "[0. 0. 0. 0. 0. 0. 0. 0. 0. 0.]\n"
     ]
    }
   ],
   "source": [
    "import numpy as np\n",
    "array_1d = np.zeros(10)\n",
    "print(array_1d)\n",
    "\n",
    "\n"
   ]
  },
  {
   "attachments": {},
   "cell_type": "markdown",
   "metadata": {},
   "source": [
    "2. Create a 2D NumPy array with shape (3, 4), filled with random values."
   ]
  },
  {
   "cell_type": "code",
   "execution_count": 9,
   "metadata": {},
   "outputs": [
    {
     "name": "stdout",
     "output_type": "stream",
     "text": [
      "2D array of random values:\n",
      " [[0.98049421 0.4996359  0.14729363 0.09319306]\n",
      " [0.79113378 0.35071157 0.60350291 0.98402877]\n",
      " [0.96745953 0.59228525 0.48720456 0.97796777]]\n"
     ]
    }
   ],
   "source": [
    "import numpy as np\n",
    "array_2d = np.random.rand(3, 4)  \n",
    "print(\"2D array of random values:\\n\", array_2d)\n",
    "\n"
   ]
  },
  {
   "attachments": {},
   "cell_type": "markdown",
   "metadata": {},
   "source": [
    "3. Create a 3D NumPy array with shape (2, 3, 4), filled with ones."
   ]
  },
  {
   "cell_type": "code",
   "execution_count": 3,
   "metadata": {},
   "outputs": [
    {
     "name": "stdout",
     "output_type": "stream",
     "text": [
      "3D array of ones:\n",
      " [[[1. 1. 1. 1.]\n",
      "  [1. 1. 1. 1.]\n",
      "  [1. 1. 1. 1.]]\n",
      "\n",
      " [[1. 1. 1. 1.]\n",
      "  [1. 1. 1. 1.]\n",
      "  [1. 1. 1. 1.]]]\n"
     ]
    }
   ],
   "source": [
    "import numpy as np\n",
    "array_3d = np.ones((2,3,4))\n",
    "print(\"3D array of ones:\\n\", array_3d)"
   ]
  },
  {
   "attachments": {},
   "cell_type": "markdown",
   "metadata": {},
   "source": [
    "4. Add two NumPy arrays element-wise."
   ]
  },
  {
   "cell_type": "code",
   "execution_count": 5,
   "metadata": {},
   "outputs": [
    {
     "name": "stdout",
     "output_type": "stream",
     "text": [
      "element-wise sum: [5 7 9]\n"
     ]
    }
   ],
   "source": [
    "import numpy as np\n",
    "a = np.array([1,2,3])\n",
    "b = np.array([4,5,6])\n",
    "sum_array = a + b\n",
    "print(\"element-wise sum:\", sum_array)"
   ]
  },
  {
   "attachments": {},
   "cell_type": "markdown",
   "metadata": {},
   "source": [
    "5. Multiply two NumPy arrays element-wise."
   ]
  },
  {
   "cell_type": "code",
   "execution_count": 8,
   "metadata": {},
   "outputs": [
    {
     "name": "stdout",
     "output_type": "stream",
     "text": [
      "element-wise product: [ 4 10 18]\n"
     ]
    }
   ],
   "source": [
    "import numpy as np\n",
    "a = np.array([1,2,3])\n",
    "b = np.array([4,5,6])\n",
    "product_array = a * b\n",
    "print(\"element-wise product:\", product_array)"
   ]
  }
 ],
 "metadata": {
  "kernelspec": {
   "display_name": "Python 3 (ipykernel)",
   "language": "python",
   "name": "python3"
  },
  "language_info": {
   "codemirror_mode": {
    "name": "ipython",
    "version": 3
   },
   "file_extension": ".py",
   "mimetype": "text/x-python",
   "name": "python",
   "nbconvert_exporter": "python",
   "pygments_lexer": "ipython3",
   "version": "3.10.18"
  }
 },
 "nbformat": 4,
 "nbformat_minor": 4
}
